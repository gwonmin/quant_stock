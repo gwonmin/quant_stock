{
 "cells": [
  {
   "cell_type": "code",
   "execution_count": 1,
   "metadata": {},
   "outputs": [],
   "source": [
    "import time\n",
    "import datetime as dt\n",
    "from pykrx import stock\n",
    "import pandas as pd\n",
    "\n",
    "import requests\n",
    "from bs4 import BeautifulSoup\n",
    "from tabulate import tabulate\n",
    "\n",
    "today = dt.datetime.now()"
   ]
  },
  {
   "cell_type": "code",
   "execution_count": 2,
   "metadata": {},
   "outputs": [],
   "source": [
    "stock_code_KOSPI = stock.get_market_ticker_list(date = \"%d%02d%02d\"%(\n",
    "    today.year, today.month, today.day), market = \"KOSPI\")"
   ]
  },
  {
   "cell_type": "code",
   "execution_count": 3,
   "metadata": {},
   "outputs": [],
   "source": [
    "stock_value = stock.get_market_fundamental_by_ticker(date = 20210917, market = \"all\")"
   ]
  },
  {
   "cell_type": "code",
   "execution_count": 4,
   "metadata": {},
   "outputs": [],
   "source": [
    "# 주식 코드를 입력하면 주식명을 알려주는 함수\n",
    "def find_stock(code_list): #code_list는 주식코드 리스트\n",
    "    target_list = []\n",
    "    \n",
    "    df = pd.read_html('http://kind.krx.co.kr/corpgeneral/corpList.do?method=download', header = 0)[0]\n",
    "    #전체 주식정보 불러오기\n",
    "    df_name_code = df[['회사명', '종목코드']]\n",
    "    #필요한 열만 추출\n",
    "    \n",
    "    for i in code_list:\n",
    "        stock_name = str(df_name_code[df_name_code[\"종목코드\"] == int(i)].회사명).split()[1]\n",
    "        target_list.append(stock_name)\n",
    "        \n",
    "    return target_list"
   ]
  },
  {
   "cell_type": "code",
   "execution_count": 5,
   "metadata": {},
   "outputs": [],
   "source": [
    "#PER > 0, 0.2 < PBR < 1 를 만족하는 종목코드만 리스트로 반환하는 함수\n",
    "def find_value_list(df): #df는 stock_value\n",
    "    target_code_list = []\n",
    "    target_list = []\n",
    "    a = df\n",
    "    \n",
    "    #a = df[df[\"PER\"] < 10] # PER 10 이상 제거\n",
    "    a = a[a[\"PER\"] > 0] #PER 0 이하 제거\n",
    "    a = a[a[\"PBR\"] < 1] #PBR 1 이상 제거\n",
    "    a = a[a[\"PBR\"] > 0.2] #PBR 0.2 이하 제거(순자산과 주가 모두 낮을 가능성)\n",
    "    a = a.sort_values(by = [\"BPS\"], ascending = False) #BPS 높은 순서로 정렬\n",
    "    \n",
    "    df = pd.read_html('http://kind.krx.co.kr/corpgeneral/corpList.do?method=download', header = 0)[0]\n",
    "    #전체 주식정보 불러오기\n",
    "    df_name_code = df[['회사명', '종목코드']]\n",
    "    #필요한 열만 추출\n",
    "    \n",
    "    for target in a.index:\n",
    "        target_list.append(str(df_name_code[df_name_code['종목코드']== int(target)].회사명).split()[1])\n",
    "        target_code_list.append(target)\n",
    "        \n",
    "    return target_code_list"
   ]
  },
  {
   "cell_type": "code",
   "execution_count": 6,
   "metadata": {},
   "outputs": [],
   "source": [
    "def fs_data(code): #크롤링 재무정보 저장\n",
    "    url = \"http://comp.fnguide.com/SVO2/ASP/SVD_Finance.asp?pGB=1&cID=&MenuYn=Y&ReportGB=&NewMenuID=103&stkGb=701&gicode=\"+code\n",
    "    res = requests.get(url)\n",
    "    df = pd.read_html(res.text)\n",
    "    return df"
   ]
  },
  {
   "cell_type": "code",
   "execution_count": 7,
   "metadata": {},
   "outputs": [],
   "source": [
    "def A_code(code_list): #(A+코드)로 수정, 파라미터 값은 코드 리스트\n",
    "    code = ['A%s'%(i) for i in code_list]\n",
    "    return code"
   ]
  },
  {
   "cell_type": "code",
   "execution_count": 8,
   "metadata": {
    "scrolled": true
   },
   "outputs": [],
   "source": [
    "stock_list = find_value_list(stock_value)"
   ]
  },
  {
   "cell_type": "code",
   "execution_count": 10,
   "metadata": {},
   "outputs": [],
   "source": [
    "final_list = []\n",
    "#최근 3분기 동안 매출이 상승 추세인지 확인\n",
    "for i in range(len(stock_list)):\n",
    "    df = fs_data(A_code(stock_list)[i])[1]\n",
    "    \n",
    "    take0 = df.iloc[0][1]\n",
    "    take1 = df.iloc[0][2]\n",
    "    take2 = df.iloc[0][3]\n",
    "    try:\n",
    "        if take0 < take1:\n",
    "            if take1 < take2:\n",
    "                final_list.append(stock_list[i])\n",
    "            else:\n",
    "                pass\n",
    "        else:\n",
    "            pass\n",
    "    except:\n",
    "        pass"
   ]
  },
  {
   "cell_type": "code",
   "execution_count": 25,
   "metadata": {},
   "outputs": [],
   "source": [
    "GPA_list = []\n",
    "#GP/A 구하기\n",
    "for i in range(len(final_list)):\n",
    "    \n",
    "    df = fs_data(A_code(final_list)[i])[1]\n",
    "    #분기별 재무정보\n",
    "    total_profit= df.iloc[:,4].iloc[2]\n",
    "\n",
    "    A = fs_data(A_code(final_list)[i])[3]\n",
    "    Asset = A.iloc[:,4].iloc[0]\n",
    "\n",
    "    GPA = total_profit / Asset\n",
    "    GPA_list.append(GPA)\n"
   ]
  },
  {
   "cell_type": "code",
   "execution_count": 26,
   "metadata": {},
   "outputs": [],
   "source": [
    "PBR_list = [stock_value.loc[i].PBR for i in final_list]\n",
    "PER_list = [stock_value.loc[i].PER for i in final_list]\n",
    "\n",
    "final_df = pd.DataFrame({'stock_code' : final_list, 'GP/A' :GPA_list, 'PBR' :PBR_list,\n",
    "                        'PER' : PER_list})"
   ]
  },
  {
   "cell_type": "code",
   "execution_count": 27,
   "metadata": {},
   "outputs": [],
   "source": [
    "target_list = [i for i in final_df.stock_code]\n",
    "final_df.index = find_stock(target_list)"
   ]
  },
  {
   "cell_type": "code",
   "execution_count": 28,
   "metadata": {},
   "outputs": [
    {
     "data": {
      "text/html": [
       "<div>\n",
       "<style scoped>\n",
       "    .dataframe tbody tr th:only-of-type {\n",
       "        vertical-align: middle;\n",
       "    }\n",
       "\n",
       "    .dataframe tbody tr th {\n",
       "        vertical-align: top;\n",
       "    }\n",
       "\n",
       "    .dataframe thead th {\n",
       "        text-align: right;\n",
       "    }\n",
       "</style>\n",
       "<table border=\"1\" class=\"dataframe\">\n",
       "  <thead>\n",
       "    <tr style=\"text-align: right;\">\n",
       "      <th></th>\n",
       "      <th>stock_code</th>\n",
       "      <th>GP/A</th>\n",
       "      <th>PBR</th>\n",
       "      <th>PER</th>\n",
       "    </tr>\n",
       "  </thead>\n",
       "  <tbody>\n",
       "    <tr>\n",
       "      <th>케이씨씨</th>\n",
       "      <td>002380</td>\n",
       "      <td>0.025551</td>\n",
       "      <td>0.830078</td>\n",
       "      <td>6.218750</td>\n",
       "    </tr>\n",
       "    <tr>\n",
       "      <th>포스코</th>\n",
       "      <td>005490</td>\n",
       "      <td>0.033823</td>\n",
       "      <td>0.709961</td>\n",
       "      <td>17.984375</td>\n",
       "    </tr>\n",
       "    <tr>\n",
       "      <th>대한화섬</th>\n",
       "      <td>003830</td>\n",
       "      <td>0.005508</td>\n",
       "      <td>0.320068</td>\n",
       "      <td>10.117188</td>\n",
       "    </tr>\n",
       "    <tr>\n",
       "      <th>롯데케미칼</th>\n",
       "      <td>011170</td>\n",
       "      <td>0.037679</td>\n",
       "      <td>0.700195</td>\n",
       "      <td>56.875000</td>\n",
       "    </tr>\n",
       "    <tr>\n",
       "      <th>삼천리</th>\n",
       "      <td>004690</td>\n",
       "      <td>0.020339</td>\n",
       "      <td>0.300049</td>\n",
       "      <td>10.429688</td>\n",
       "    </tr>\n",
       "    <tr>\n",
       "      <th>...</th>\n",
       "      <td>...</td>\n",
       "      <td>...</td>\n",
       "      <td>...</td>\n",
       "      <td>...</td>\n",
       "    </tr>\n",
       "    <tr>\n",
       "      <th>삼익악기</th>\n",
       "      <td>002450</td>\n",
       "      <td>0.031720</td>\n",
       "      <td>0.770020</td>\n",
       "      <td>15.828125</td>\n",
       "    </tr>\n",
       "    <tr>\n",
       "      <th>지에스이</th>\n",
       "      <td>053050</td>\n",
       "      <td>0.036047</td>\n",
       "      <td>0.890137</td>\n",
       "      <td>13.726562</td>\n",
       "    </tr>\n",
       "    <tr>\n",
       "      <th>SK증권</th>\n",
       "      <td>001510</td>\n",
       "      <td>0.001231</td>\n",
       "      <td>0.750000</td>\n",
       "      <td>36.437500</td>\n",
       "    </tr>\n",
       "    <tr>\n",
       "      <th>미래아이앤지</th>\n",
       "      <td>007120</td>\n",
       "      <td>0.014721</td>\n",
       "      <td>0.819824</td>\n",
       "      <td>3.710938</td>\n",
       "    </tr>\n",
       "    <tr>\n",
       "      <th>세종텔레콤</th>\n",
       "      <td>036630</td>\n",
       "      <td>0.079810</td>\n",
       "      <td>0.959961</td>\n",
       "      <td>18.906250</td>\n",
       "    </tr>\n",
       "  </tbody>\n",
       "</table>\n",
       "<p>130 rows × 4 columns</p>\n",
       "</div>"
      ],
      "text/plain": [
       "       stock_code      GP/A       PBR        PER\n",
       "케이씨씨       002380  0.025551  0.830078   6.218750\n",
       "포스코        005490  0.033823  0.709961  17.984375\n",
       "대한화섬       003830  0.005508  0.320068  10.117188\n",
       "롯데케미칼      011170  0.037679  0.700195  56.875000\n",
       "삼천리        004690  0.020339  0.300049  10.429688\n",
       "...           ...       ...       ...        ...\n",
       "삼익악기       002450  0.031720  0.770020  15.828125\n",
       "지에스이       053050  0.036047  0.890137  13.726562\n",
       "SK증권       001510  0.001231  0.750000  36.437500\n",
       "미래아이앤지     007120  0.014721  0.819824   3.710938\n",
       "세종텔레콤      036630  0.079810  0.959961  18.906250\n",
       "\n",
       "[130 rows x 4 columns]"
      ]
     },
     "execution_count": 28,
     "metadata": {},
     "output_type": "execute_result"
    }
   ],
   "source": [
    "final_df"
   ]
  }
 ],
 "metadata": {
  "kernelspec": {
   "display_name": "Python 3",
   "language": "python",
   "name": "python3"
  },
  "language_info": {
   "codemirror_mode": {
    "name": "ipython",
    "version": 3
   },
   "file_extension": ".py",
   "mimetype": "text/x-python",
   "name": "python",
   "nbconvert_exporter": "python",
   "pygments_lexer": "ipython3",
   "version": "3.8.5"
  }
 },
 "nbformat": 4,
 "nbformat_minor": 4
}
